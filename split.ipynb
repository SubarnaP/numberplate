{
 "cells": [
  {
   "cell_type": "code",
   "execution_count": 7,
   "id": "29e32f6d",
   "metadata": {},
   "outputs": [],
   "source": [
    "import os\n",
    "import random\n",
    "from pathlib import Path\n",
    "from shutil import copy2\n",
    "\n",
    "# Paths\n",
    "base_dir = Path(\"./dataset\")  # replace with your dataset path\n",
    "images_dir = base_dir / \"images\"\n",
    "labels_dir = base_dir / \"labels\"\n",
    "\n"
   ]
  },
  {
   "cell_type": "code",
   "execution_count": 8,
   "id": "58efdb83",
   "metadata": {},
   "outputs": [
    {
     "data": {
      "text/plain": [
       "WindowsPath('dataset/images')"
      ]
     },
     "execution_count": 8,
     "metadata": {},
     "output_type": "execute_result"
    }
   ],
   "source": [
    "images_dir"
   ]
  },
  {
   "cell_type": "code",
   "execution_count": 9,
   "id": "40bcac3c",
   "metadata": {},
   "outputs": [],
   "source": [
    "# Output folders\n",
    "split_base = Path(\"split_dataset\")\n",
    "(train_img, train_lbl) = (split_base / \"train/images\", split_base / \"train/labels\")\n",
    "(val_img, val_lbl) = (split_base / \"val/images\", split_base / \"val/labels\")\n",
    "for p in [train_img, train_lbl, val_img, val_lbl]:\n",
    "    p.mkdir(parents=True, exist_ok=True)"
   ]
  },
  {
   "cell_type": "code",
   "execution_count": 10,
   "id": "31834bee",
   "metadata": {},
   "outputs": [],
   "source": [
    "\n",
    "\n",
    "# Split\n",
    "image_files = list(images_dir.glob(\"*.jpg\"))\n",
    "random.seed(42)\n",
    "random.shuffle(image_files)\n",
    "split_idx = int(0.8 * len(image_files))\n",
    "train_files = image_files[:split_idx]\n",
    "val_files = image_files[split_idx:]\n",
    "\n"
   ]
  },
  {
   "cell_type": "code",
   "execution_count": 11,
   "id": "f6bdbf6f",
   "metadata": {},
   "outputs": [
    {
     "data": {
      "text/plain": [
       "6462"
      ]
     },
     "execution_count": 11,
     "metadata": {},
     "output_type": "execute_result"
    }
   ],
   "source": [
    "split_idx"
   ]
  },
  {
   "cell_type": "code",
   "execution_count": 12,
   "id": "ee9cb866",
   "metadata": {},
   "outputs": [],
   "source": [
    "\n",
    "# Copy files\n",
    "for img_path in train_files:\n",
    "    lbl_path = labels_dir / f\"{img_path.stem}.txt\"\n",
    "    copy2(img_path, train_img)\n",
    "    copy2(lbl_path, train_lbl)\n",
    "\n",
    "for img_path in val_files:\n",
    "    lbl_path = labels_dir / f\"{img_path.stem}.txt\"\n",
    "    copy2(img_path, val_img)\n",
    "    copy2(lbl_path, val_lbl)"
   ]
  },
  {
   "cell_type": "code",
   "execution_count": 1,
   "id": "05e776ad",
   "metadata": {},
   "outputs": [
    {
     "data": {
      "text/plain": [
       "True"
      ]
     },
     "execution_count": 1,
     "metadata": {},
     "output_type": "execute_result"
    }
   ],
   "source": [
    "import torch\n",
    "torch.cuda.is_available()"
   ]
  },
  {
   "cell_type": "code",
   "execution_count": 2,
   "id": "c9730c83",
   "metadata": {},
   "outputs": [
    {
     "name": "stdout",
     "output_type": "stream",
     "text": [
      "True\n",
      "True\n"
     ]
    }
   ],
   "source": [
    "import torch\n",
    "import torchvision\n",
    "\n",
    "print(torch.cuda.is_available())          # should be True\n",
    "print(torchvision.ops.nms is not None)    # should be True (no error)\n"
   ]
  }
 ],
 "metadata": {
  "kernelspec": {
   "display_name": ".venv",
   "language": "python",
   "name": "python3"
  },
  "language_info": {
   "codemirror_mode": {
    "name": "ipython",
    "version": 3
   },
   "file_extension": ".py",
   "mimetype": "text/x-python",
   "name": "python",
   "nbconvert_exporter": "python",
   "pygments_lexer": "ipython3",
   "version": "3.12.7"
  }
 },
 "nbformat": 4,
 "nbformat_minor": 5
}
